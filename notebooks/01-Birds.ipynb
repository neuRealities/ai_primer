{
 "cells": [
  {
   "cell_type": "markdown",
   "id": "6fdd3a42efa31ff3",
   "metadata": {
    "collapsed": false,
    "jupyter": {
     "outputs_hidden": false
    }
   },
   "source": [
    "# 01 - Is it a Bird?\n",
    "\n",
    "For an introduction to AI, we will follow an example from [fast.ai](https://github.com/fastai/course22/blob/master/00-is-it-a-bird-creating-a-model-from-your-own-data.ipynb), even though we don't have all the internal knowlewdge, seeing it in action can be eye opening.\n",
    "\n",
    "In 2015 the idea of creating a computer system that could recognise birds was considered so outrageously challenging that it was the basis of [this XKCD joke](https://xkcd.com/1425/)."
   ]
  },
  {
   "cell_type": "markdown",
   "id": "1240fdc1-fddd-4a49-933f-6366d5c5b0a8",
   "metadata": {},
   "source": [
    "![image.png](https://imgs.xkcd.com/comics/tasks.png)"
   ]
  },
  {
   "cell_type": "markdown",
   "id": "66b01b7d-9493-4bd5-816f-dd301f9b1c71",
   "metadata": {},
   "source": [
    "We'll do exactly that, in just a few minutes, by:\n",
    "\n",
    "- Use DuckDuckGo to search for images of \"bird photos\"\n",
    "- Use DuckDuckGo to search for images of \"forest photos\"\n",
    "- Fine-tune a pretrained neural network to recognise these two groups\n",
    "- Try running this model on a picture of a bird and see if it works."
   ]
  },
  {
   "cell_type": "markdown",
   "id": "7d40e561-5d69-4d5f-89b9-91af722f0900",
   "metadata": {},
   "source": [
    "## About these notebooks\n",
    "\n",
    "This is a Jupyter notebook. Notice that we can have both prose, like this explanation, and code, like the cell below. To execute the cell below, select it and press the ▶️ (*Run this cell and Advance*) icon in the toolbar."
   ]
  },
  {
   "cell_type": "code",
   "execution_count": null,
   "id": "09e06aee-7871-43b6-b5cf-064985928168",
   "metadata": {},
   "outputs": [],
   "source": [
    "print('Hello World!')"
   ]
  },
  {
   "cell_type": "markdown",
   "id": "04fb28a0-de40-48cd-8650-c21ad44f1005",
   "metadata": {},
   "source": [
    "The shortcut for execution is `Shift` + `Enter`. Try that in the cell below."
   ]
  },
  {
   "cell_type": "code",
   "execution_count": null,
   "id": "7f13f04a-3241-4ceb-8102-a55b96051150",
   "metadata": {},
   "outputs": [],
   "source": [
    "print('5 + 7 =', 5+7) "
   ]
  },
  {
   "cell_type": "markdown",
   "id": "0495ca8d-525d-4db2-bb67-6b21e53ff7c8",
   "metadata": {},
   "source": [
    "Optionally, you can press the ⏩ (*Restart the kernel and run all cells*) icon to execute the whole notebook at once. Since this is a learning and not a production notebook, we recommend you step one cell at a time instead.\n",
    "\n",
    "Notice that you can execute cells in any order, or multiple times. The history of cell execution is labeled to the left of each cell, like \\[1\\] indicating this is the first cell that was executed. Most notebooks expect a linear progression, but you can re-run any cell at any time."
   ]
  },
  {
   "cell_type": "markdown",
   "id": "f02d88a9-392b-4334-8fd4-f1396df35e9b",
   "metadata": {},
   "source": [
    "## Step 1: Download images of birds and non-birds\n",
    "\n",
    "We use the duck duck go search engine to look for photos, get their URL, and then doownload the images."
   ]
  },
  {
   "cell_type": "code",
   "execution_count": null,
   "id": "46cb3ed3-1931-4dc7-bac5-6b06358df97e",
   "metadata": {
    "scrolled": true
   },
   "outputs": [],
   "source": [
    "from duckduckgo_search import DDGS\n",
    "from fastcore.all import *\n",
    "import os, time, requests\n",
    "\n",
    "os.environ[\"PEXELS_API_KEY\"] = \"nZg5OWfJqdNsSSW5yuUndYfRszlTa8ngH4hZxWUOmkR2aGRGQFoqLtIc\"   # or PIXABAY_API_KEY\n",
    "\n",
    "# We need to redefine this fast.ai function to work with newer versions of duckduckgo_search\n",
    "def search_images(term, max_images=200):\n",
    "    with DDGS(headers = {'Accept-Encoding': 'gzip, deflate, br'}) as ddgs:\n",
    "        results = ddgs.images(keywords=term)\n",
    "        images = [result.get(\"image\") for result in results[:max_images]] #  https://stackoverflow.com/a/78327127\n",
    "        #images = [next(results).get('image') for _ in range(max_images)] # Gives iterator error\n",
    "    return L(images)\n",
    "\n",
    "os.environ[\"PEXELS_API_KEY\"] = \"nZg5OWfJqdNsSSW5yuUndYfRszlTa8ngH4hZxWUOmkR2aGRGQFoqLtIc\"   # or PIXABAY_API_KEY\n",
    "\n",
    "def search_images_pexels(term, max_images=200, *, size=\"large2x\", per_page=80, delay_between_pages=0.25, **filters):\n",
    "    \"\"\"\n",
    "    Pexels-backed replacement for DDGS search_images.\n",
    "    Returns L(urls) with up to max_images items.\n",
    "    Requires env var PEXELS_API_KEY.\n",
    "    \n",
    "    size: one of [\"original\",\"large2x\",\"large\",\"medium\",\"small\",\"portrait\",\"landscape\",\"tiny\"]\n",
    "    filters: optional Pexels params like orientation=\"landscape\", color=\"green\", locale=\"en-US\"\n",
    "    \"\"\"\n",
    "    API_KEY = os.environ.get(\"PEXELS_API_KEY\")\n",
    "    if not API_KEY:\n",
    "        raise RuntimeError(\"PEXELS_API_KEY not set in environment\")\n",
    "\n",
    "    headers = {\"Authorization\": API_KEY}\n",
    "    images, seen_ids = [], set()\n",
    "    page = 1\n",
    "\n",
    "    while len(images) < max_images:\n",
    "        params = {\n",
    "            \"query\": term,\n",
    "            \"per_page\": min(per_page, 80),  # Pexels max\n",
    "            \"page\": page,\n",
    "            **filters\n",
    "        }\n",
    "        r = requests.get(\"https://api.pexels.com/v1/search\", headers=headers, params=params, timeout=30)\n",
    "        r.raise_for_status()\n",
    "        photos = r.json().get(\"photos\", [])\n",
    "        if not photos:\n",
    "            break\n",
    "\n",
    "        for p in photos:\n",
    "            pid = p.get(\"id\")\n",
    "            if pid in seen_ids: \n",
    "                continue\n",
    "            seen_ids.add(pid)\n",
    "            src = p.get(\"src\") or {}\n",
    "            url = src.get(size) or src.get(\"original\") or src.get(\"large\") or src.get(\"medium\")\n",
    "            if url:\n",
    "                images.append(url)\n",
    "                if len(images) >= max_images:\n",
    "                    break\n",
    "\n",
    "        page += 1\n",
    "        time.sleep(delay_between_pages)\n",
    "\n",
    "    return L(images)"
   ]
  },
  {
   "cell_type": "code",
   "execution_count": null,
   "id": "58bbc954-348c-474f-be89-69ae0b34f507",
   "metadata": {},
   "outputs": [],
   "source": [
    "urls = search_images_pexels('bird photos', max_images=200) # Get a list of images, size 1\n",
    "urls[0] # Print URL"
   ]
  },
  {
   "cell_type": "code",
   "execution_count": null,
   "id": "9f58bf2f-7700-4970-96fa-f2a40abec92b",
   "metadata": {},
   "outputs": [],
   "source": [
    "# Save the file\n",
    "from fastdownload import download_url\n",
    "dest = 'data/bird.jpg'\n",
    "download_url(urls[0], dest, show_progress=False)"
   ]
  },
  {
   "cell_type": "code",
   "execution_count": null,
   "id": "6acbbad4-1d52-4710-95d4-a6d865630c89",
   "metadata": {},
   "outputs": [],
   "source": [
    "# Show the saved image file\n",
    "from fastai.vision.all import *\n",
    "im = Image.open(dest)\n",
    "im.to_thumb(256,256)"
   ]
  },
  {
   "cell_type": "markdown",
   "id": "4ca94c4c-08a3-49da-bd6e-cb44d1b3993a",
   "metadata": {},
   "source": [
    "Now let's do the same with \"forest photos\""
   ]
  },
  {
   "cell_type": "code",
   "execution_count": null,
   "id": "5f8e5948-d765-44c0-ba89-e62707d90e92",
   "metadata": {},
   "outputs": [],
   "source": [
    "download_url(search_images_pexels('forest photos', max_images=1)[0], 'data/forest.jpg', show_progress=False)\n",
    "Image.open('data/forest.jpg').to_thumb(256,256)"
   ]
  },
  {
   "cell_type": "markdown",
   "id": "81f36ef9-3f87-411e-80b2-3b5d56addd30",
   "metadata": {},
   "source": [
    "Let's grab 200 examples of each of \"bird\" and \"forest\" photos, and save each group of photos to a different folder. This might take a while. If `[*]` is next to the cell, it means the cell is still executing."
   ]
  },
  {
   "cell_type": "code",
   "execution_count": null,
   "id": "b6c30dbe-0476-4fc6-9814-3faa0ff18f79",
   "metadata": {},
   "outputs": [],
   "source": [
    "## First, let's delete any existing images, otherwise we might run into out of memory errors when trying to fit them all at once\n",
    "import os\n",
    "import glob\n",
    "\n",
    "files = glob.glob('data/bird_or_not/bird/*')\n",
    "for f in files:\n",
    "    os.remove(f)\n",
    "files = glob.glob('data/bird_or_not/forest/*')\n",
    "for f in files:\n",
    "    os.remove(f)"
   ]
  },
  {
   "cell_type": "code",
   "execution_count": null,
   "id": "75e5d953-92d2-48a6-803f-371d4e3a4d0f",
   "metadata": {},
   "outputs": [],
   "source": [
    "searches = 'forest','bird'\n",
    "path = Path('data/bird_or_not')\n",
    "from time import sleep\n",
    "\n",
    "for o in searches:\n",
    "    dest = (path/o)\n",
    "    dest.mkdir(exist_ok=True, parents=True)\n",
    "    download_images(dest, urls=search_images_pexels(f'{o} photo'))\n",
    "    sleep(10)  # Pause between searches to avoid over-loading server\n",
    "    download_images(dest, urls=search_images_pexels(f'{o} sun photo'))\n",
    "    sleep(10)\n",
    "    download_images(dest, urls=search_images_pexels(f'{o} shade photo'))\n",
    "    sleep(10)\n",
    "    resize_images(path/o, max_size=400, dest=path/o)"
   ]
  },
  {
   "cell_type": "markdown",
   "id": "b3ed37f7-57fb-4575-8ac2-4731e280949b",
   "metadata": {},
   "source": [
    "## Step 2: Train our model\n",
    "\n",
    "Some photos might not download correctly which could cause our model training to fail, so we'll remove them."
   ]
  },
  {
   "cell_type": "code",
   "execution_count": null,
   "id": "3b44890b-e6f5-4581-94b7-2c3ab388fbf6",
   "metadata": {},
   "outputs": [],
   "source": [
    "failed = verify_images(get_image_files(path))\n",
    "failed.map(Path.unlink)\n",
    "len(failed)"
   ]
  },
  {
   "cell_type": "markdown",
   "id": "afe80475-8cb0-4187-ac50-a68e89bbb15e",
   "metadata": {},
   "source": [
    "To train a model, we'll need `DataLoaders`, which is an object that contains a *training set* (the images used to create a model) and a *validation set* (the images used to check the accuracy of a model -- not used during training). With `fastai` we can create that easily using a `DataBlock`, and view sample images from it:"
   ]
  },
  {
   "cell_type": "code",
   "execution_count": null,
   "id": "98e66afb-2ce8-421a-ace6-edb4919d3f2d",
   "metadata": {},
   "outputs": [],
   "source": [
    "dls = DataBlock(\n",
    "    blocks=(ImageBlock, CategoryBlock), \n",
    "    get_items=get_image_files, \n",
    "    splitter=RandomSplitter(valid_pct=0.2, seed=42),\n",
    "    get_y=parent_label,\n",
    "    item_tfms=[Resize(192, method='squish')]\n",
    ").dataloaders(\n",
    "    path\n",
    "    # ,\n",
    "    # bs=64,                 # your choice\n",
    "    # num_workers=4,         # try 4–8 if /dev/shm is big now\n",
    "    # prefetch_factor=2,     # default is 2; keep it unless you’re tight on /dev/shm\n",
    "    # pin_memory=True,       # good for GPU\n",
    "    # persistent_workers=True \n",
    ")\n",
    "\n",
    "dls.show_batch(max_n=6)"
   ]
  },
  {
   "cell_type": "markdown",
   "id": "5924fcc5-d8d8-4b21-aca7-23f3ba96171c",
   "metadata": {},
   "source": [
    "Here is what each of the `DataBlock` parameters means:\n",
    "\n",
    "    blocks=(ImageBlock, CategoryBlock),\n",
    "\n",
    "The inputs to our model are images, and the outputs are categories (in this case, \"bird\" or \"forest\").\n",
    "\n",
    "    get_items=get_image_files,\n",
    "    \n",
    "To find all the inputs to our model, run the `get_image_files` function (which returns a list of all image files in a path).\n",
    "\n",
    "    splitter=RandomSplitter(valid_pct=0.2, seed=42),\n",
    "\n",
    "Split the data into training and validation sets randomly, using 20% of the data for the validation set.\n",
    "\n",
    "    get_y=parent_label,\n",
    "\n",
    "The labels (`y` values) is the name of the `parent` of each file (i.e. the name of the folder they're in, which will be *bird* or *forest*).\n",
    "\n",
    "    item_tfms=[Resize(192, method='squish')]\n",
    "    \n",
    "Before training, resize each image to 192x192 pixels by \\\"squishing\\\" it (as opposed to cropping it).\n"
   ]
  },
  {
   "cell_type": "markdown",
   "id": "10f04af0-1652-4201-ae6d-70ba85a3ce6a",
   "metadata": {},
   "source": [
    "Now we're ready to train our model. The fastest widely used computer vision model is `resnet18`. You can train this in a few minutes, even on a CPU! (On a GPU, it generally takes under 10 seconds...)"
   ]
  },
  {
   "cell_type": "code",
   "execution_count": null,
   "id": "1d32bb2c-aa47-4731-b243-df0d52b2e26d",
   "metadata": {},
   "outputs": [],
   "source": [
    "learn = vision_learner(dls, resnet18, metrics=error_rate)"
   ]
  },
  {
   "cell_type": "code",
   "execution_count": null,
   "id": "ae405e23-9b5c-4b77-b267-78709190b8ae",
   "metadata": {},
   "outputs": [],
   "source": [
    "learn.fine_tune(3)"
   ]
  },
  {
   "cell_type": "markdown",
   "id": "8352b643-1e17-4ef4-ae32-fc028bba32e8",
   "metadata": {},
   "source": [
    "\"Fine-tuning\" a model means that we're starting with a model someone else has trained using some other dataset (called the *pretrained model*), and adjusting the weights a little bit so that the model learns to recognise your particular dataset. In this case, the pretrained model was trained to recognise photos in imagenet, and widely-used computer vision dataset with images covering 1000 categories) "
   ]
  },
  {
   "cell_type": "markdown",
   "id": "b5ad1f87-e0d4-4e91-b7b8-704130683055",
   "metadata": {},
   "source": [
    "## Step 3:\n",
    "\n",
    "Let's see what our model thinks about that bird we downloaded at the start:"
   ]
  },
  {
   "cell_type": "code",
   "execution_count": null,
   "id": "1c5f4d00-9416-4ccd-ae8d-addd73af6147",
   "metadata": {},
   "outputs": [],
   "source": [
    "is_bird,_,probs = learn.predict(PILImage.create('data/bird.jpg'))\n",
    "print(f\"This is a: {is_bird}.\")\n",
    "print(f\"Probability it's a bird: {probs[0]:.4f}\")"
   ]
  },
  {
   "cell_type": "markdown",
   "id": "ff0a5d2a-f1c8-4e0c-94c1-bb23b5045058",
   "metadata": {},
   "source": [
    "You've created a binary classifier. Good job!"
   ]
  },
  {
   "cell_type": "markdown",
   "id": "ad67edcb-3b74-4264-96d0-fd80c2408eba",
   "metadata": {},
   "source": [
    "**Next Notebook: [02-Datasets](02-Datasets.ipynb)**"
   ]
  },
  {
   "cell_type": "code",
   "execution_count": null,
   "id": "c0ef744a-e97e-486e-8728-0e173b1a1621",
   "metadata": {},
   "outputs": [],
   "source": []
  }
 ],
 "metadata": {
  "kernelspec": {
   "display_name": "Python 3 (ipykernel)",
   "language": "python",
   "name": "python3"
  },
  "language_info": {
   "codemirror_mode": {
    "name": "ipython",
    "version": 3
   },
   "file_extension": ".py",
   "mimetype": "text/x-python",
   "name": "python",
   "nbconvert_exporter": "python",
   "pygments_lexer": "ipython3",
   "version": "3.11.6"
  }
 },
 "nbformat": 4,
 "nbformat_minor": 5
}
